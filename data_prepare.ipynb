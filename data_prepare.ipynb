{
  "cells": [
    {
      "cell_type": "code",
      "execution_count": 1,
      "metadata": {
        "pycharm": {}
      },
      "outputs": [],
      "source": [
        "import torch\n",
        "from torch import nn\n",
        "from torch.utils import data\n",
        "from torch.utils.data import DataLoader, Sampler\n",
        "import torch.nn.functional as F\n",
        "import numpy as np\n",
        "import tqdm\n",
        "from torchvision import datasets, transforms\n",
        "import torchvision\n",
        "import pandas as pd\n",
        "import os"
      ]
    },
    {
      "cell_type": "code",
      "execution_count": 3,
      "metadata": {
        "pycharm": {}
      },
      "outputs": [],
      "source": [
        "from src.net import VggNetwork\n",
        "from src.train import Trainer, Evaluation\n",
        "from src.config import config\n",
        "from PIL import Image"
      ]
    },
    {
      "cell_type": "code",
      "execution_count": null,
      "metadata": {
        "pycharm": {}
      },
      "outputs": [],
      "source": []
    },
    {
      "cell_type": "code",
      "execution_count": 21,
      "metadata": {
        "pycharm": {}
      },
      "outputs": [],
      "source": [
        "feature \u003d \u0027Smiling\u0027\n",
        "size \u003d 20000"
      ]
    },
    {
      "cell_type": "code",
      "execution_count": 50,
      "metadata": {
        "pycharm": {}
      },
      "outputs": [],
      "source": [
        "data \u003d pd.read_csv(\"celeba/list_attr_celeba.csv\")[[\u0027image_id\u0027, feature]]"
      ]
    },
    {
      "cell_type": "code",
      "execution_count": 51,
      "metadata": {
        "pycharm": {}
      },
      "outputs": [],
      "source": [
        "data[feature] \u003d ((data[feature] + 1) / 2).astype(int)"
      ]
    },
    {
      "cell_type": "code",
      "execution_count": 52,
      "metadata": {
        "pycharm": {}
      },
      "outputs": [],
      "source": [
        "negative \u003d data[data[feature] \u003d\u003d 0]\n",
        "positive \u003d data[data[feature] \u003d\u003d 1]"
      ]
    },
    {
      "cell_type": "code",
      "execution_count": 53,
      "metadata": {
        "pycharm": {}
      },
      "outputs": [],
      "source": [
        "size \u003d min(size, len(negative))"
      ]
    },
    {
      "cell_type": "code",
      "execution_count": 54,
      "metadata": {
        "pycharm": {}
      },
      "outputs": [],
      "source": [
        "negative \u003d negative.sample(size)"
      ]
    },
    {
      "cell_type": "code",
      "execution_count": 55,
      "metadata": {
        "pycharm": {}
      },
      "outputs": [],
      "source": [
        "size \u003d min(size, len(positive))"
      ]
    },
    {
      "cell_type": "code",
      "execution_count": 56,
      "metadata": {
        "pycharm": {}
      },
      "outputs": [],
      "source": [
        "positive \u003d positive.sample(size)"
      ]
    },
    {
      "cell_type": "code",
      "execution_count": 62,
      "metadata": {
        "pycharm": {}
      },
      "outputs": [],
      "source": [
        "split \u003d int(len(positive) * 0.8)\n",
        "train_positive, val_positive \u003d positive.iloc[:split], positive.iloc[split:]\n",
        "train_negative, val_negative \u003d negative.iloc[:split], negative.iloc[split:]\n",
        "train \u003d pd.concat([train_positive, train_negative]).rename(columns\u003d{feature: \"target\"})\n",
        "val \u003d pd.concat([val_positive, val_negative]).rename(columns\u003d{feature: \"target\"})"
      ]
    },
    {
      "cell_type": "code",
      "execution_count": 63,
      "metadata": {
        "pycharm": {}
      },
      "outputs": [],
      "source": "train.to_csv(\"data/train.csv\", index\u003dFalse)\nval.to_csv(\"data/val.csv\", index\u003dFalse)"
    },
    {
      "cell_type": "code",
      "execution_count": null,
      "metadata": {
        "pycharm": {}
      },
      "outputs": [],
      "source": []
    },
    {
      "cell_type": "code",
      "execution_count": 70,
      "metadata": {
        "pycharm": {}
      },
      "outputs": [],
      "source": [
        "class CelebaData(torch.utils.data.Dataset):\n",
        "    def __init__(self, csv_file, folder\u003d\"celeba/\", image_folder\u003d\"img\"):\n",
        "        self.img_path \u003d os.path.join(folder, image_folder)\n",
        "        self.data \u003d pd.read_csv(csv_file)\n",
        "        self.transforms \u003d transforms.Compose([\n",
        "            transforms.Resize((224, 224)),\n",
        "            transforms.ToTensor(),\n",
        "            transforms.Normalize((0.1307,), (0.3081,))\n",
        "        ])\n",
        "\n",
        "    def __len__(self):\n",
        "        return len(self.data)\n",
        "\n",
        "    def __getitem__(self, idx):\n",
        "        imid, target \u003d self.data.iloc[idx]\n",
        "        image \u003d Image.open(os.path.join(self.img_path, imid))\n",
        "        image \u003d self.transforms(image)\n",
        "        return image, torch.LongTensor(np.array([target]))"
      ]
    },
    {
      "cell_type": "code",
      "execution_count": 79,
      "metadata": {
        "pycharm": {}
      },
      "outputs": [],
      "source": [
        "loss \u003d torch.nn.CrossEntropyLoss()"
      ]
    },
    {
      "cell_type": "code",
      "execution_count": 126,
      "metadata": {
        "pycharm": {}
      },
      "outputs": [
        {
          "data": {
            "text/plain": [
              "tensor(0.6931)"
            ]
          },
          "execution_count": 126,
          "metadata": {},
          "output_type": "execute_result"
        }
      ],
      "source": [
        "loss(torch.FloatTensor(1, 2),  torch.LongTensor([1]))"
      ]
    },
    {
      "cell_type": "code",
      "execution_count": null,
      "metadata": {
        "pycharm": {}
      },
      "outputs": [],
      "source": []
    },
    {
      "cell_type": "code",
      "execution_count": 111,
      "metadata": {
        "pycharm": {}
      },
      "outputs": [
        {
          "data": {
            "text/plain": [
              "tensor([[1]])"
            ]
          },
          "execution_count": 111,
          "metadata": {},
          "output_type": "execute_result"
        }
      ],
      "source": []
    },
    {
      "cell_type": "code",
      "execution_count": 8,
      "metadata": {
        "scrolled": true,
        "pycharm": {}
      },
      "outputs": [],
      "source": []
    },
    {
      "cell_type": "code",
      "execution_count": null,
      "metadata": {
        "pycharm": {}
      },
      "outputs": [],
      "source": []
    },
    {
      "cell_type": "code",
      "execution_count": null,
      "metadata": {
        "pycharm": {}
      },
      "outputs": [],
      "source": []
    },
    {
      "cell_type": "code",
      "execution_count": null,
      "metadata": {
        "pycharm": {}
      },
      "outputs": [],
      "source": []
    },
    {
      "cell_type": "code",
      "execution_count": null,
      "metadata": {
        "pycharm": {}
      },
      "outputs": [],
      "source": []
    }
  ],
  "metadata": {
    "kernelspec": {
      "display_name": "Python 3",
      "language": "python",
      "name": "python3"
    },
    "language_info": {
      "codemirror_mode": {
        "name": "ipython",
        "version": 3
      },
      "file_extension": ".py",
      "mimetype": "text/x-python",
      "name": "python",
      "nbconvert_exporter": "python",
      "pygments_lexer": "ipython3",
      "version": "3.7.2"
    }
  },
  "nbformat": 4,
  "nbformat_minor": 2
}